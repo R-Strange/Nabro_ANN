{
 "cells": [
  {
   "cell_type": "markdown",
   "metadata": {},
   "source": [
    "# 12th February\n",
    "## Converting SAC to ASCII for whole day"
   ]
  },
  {
   "cell_type": "markdown",
   "metadata": {},
   "source": [
    "Having been provided the event data for the Eritrean Eruption from The Bristol Earth Sciences Dept, I need to carry out a great deal of data preparation before I can ingest the data into Tensorflow. The first step is to convert the data from a .sac file to a ASCII-encoded text file. To do so I will need to use the SAC (Seismic Audio Code) command line program.\n",
    "\n",
    "Unlike the rest of my code, which is in a native windows environment, SAC requires a UNIX shell, so this notebook will be run within a CentOS virtual machine (Oracle VirtualBox, running the osboxes.org current 64x CentOS build)\n",
    "\n",
    "As such, some of this code may not be reproducible in a Windows environment."
   ]
  },
  {
   "cell_type": "code",
   "execution_count": 23,
   "metadata": {},
   "outputs": [],
   "source": [
    "import os\n",
    "import subprocess\n",
    "from tqdm import tqdm"
   ]
  },
  {
   "cell_type": "markdown",
   "metadata": {},
   "source": [
    "The data we have provided is in a nested directory structure. We will treewalk recursively using the os.walk function to find every datafile provided. We will also create a second copy of the list with a different directory structure for our outgoing datafiles.\n",
    "\n",
    "Once complete, we remove the first two items in the list, which are dropbox-specific hidden metadata files that were also found in the walk.\n",
    "\n",
    "We'll print out the first of each lists to see if the filepath strings have been created correctly."
   ]
  },
  {
   "cell_type": "code",
   "execution_count": 5,
   "metadata": {},
   "outputs": [
    {
     "name": "stdout",
     "output_type": "stream",
     "text": [
      "/media/sf_Dropbox_(Personal)/Github/Nabro_ANN/Nabro_ANN/Data/DATA/WHOLE_DAY_DATA/AllData\n"
     ]
    }
   ],
   "source": [
    "%cd Data/DATA/WHOLE_DAY_DATA/AllData/\n"
   ]
  },
  {
   "cell_type": "code",
   "execution_count": 33,
   "metadata": {
    "collapsed": true
   },
   "outputs": [],
   "source": [
    "rootdir = \"/media/sf_Dropbox_(Personal)/Github/Nabro_ANN/Nabro_ANN/Data/DATA/WHOLE_DAY_DATA/AllData\"\n",
    "\n",
    "old_filenames = []\n",
    "new_filenames = []\n",
    "\n",
    "for dirname, subdirlist, filelist in os.walk(rootdir):\n",
    "    for fname in filelist:\n",
    "        old_filenames.append('./{}'.format(fname))\n",
    "        new_filename_string = '{}'.format(\"./ASCII/{}txt\".format(fname[:len(fname)-3]))\n",
    "        new_filenames.append(new_filename_string)\n",
    "\n",
    "#del old_filenames[:2]\n",
    "#del new_filenames[:2]"
   ]
  },
  {
   "cell_type": "code",
   "execution_count": 34,
   "metadata": {
    "scrolled": true
   },
   "outputs": [
    {
     "data": {
      "text/plain": [
       "'./2011.240.00.00.00.0000.YW.NAB1..HHE.D.SAC'"
      ]
     },
     "execution_count": 34,
     "metadata": {},
     "output_type": "execute_result"
    }
   ],
   "source": [
    "old_filenames[0]"
   ]
  },
  {
   "cell_type": "code",
   "execution_count": 35,
   "metadata": {
    "scrolled": true
   },
   "outputs": [
    {
     "data": {
      "text/plain": [
       "'./ASCII/2011.240.00.00.00.0000.YW.NAB1..HHE.D.txt'"
      ]
     },
     "execution_count": 35,
     "metadata": {},
     "output_type": "execute_result"
    }
   ],
   "source": [
    "new_filenames[0]"
   ]
  },
  {
   "cell_type": "markdown",
   "metadata": {},
   "source": [
    "With the input and output filepaths ready, we just need to generate the commands to drive the SAC program through bash:\n",
    "```bash\n",
    "> sac #opens the sac program\n",
    ">> r [input_filename.sac] #read in a .sac file\n",
    ">> w alpha [output_filename.txt] #write out an ascii encoded .txt file\n",
    ">> q  #quit sac\n",
    "```"
   ]
  },
  {
   "cell_type": "code",
   "execution_count": 37,
   "metadata": {},
   "outputs": [
    {
     "name": "stderr",
     "output_type": "stream",
     "text": [
      "100%|██████████| 46/46 [12:52<00:00, 16.79s/it]\n"
     ]
    }
   ],
   "source": [
    "i = 0\n",
    "directory=\"/media/sf_Dropbox_(Personal)/Github/Nabro_ANN/Nabro_ANN/Data/DATA/WHOLE_DAY_DATA/AllData/\"\n",
    "\n",
    "for i in tqdm(range(len(old_filenames))):\n",
    "    sac_popen = subprocess.Popen(['sac'],\n",
    "                    stdout = subprocess.PIPE,\n",
    "                    stdin = subprocess.PIPE,\n",
    "                    stderr = subprocess.STDOUT)\n",
    "    out = sac_popen.communicate('''\n",
    "cd \"{}\"\n",
    "r '{}'\n",
    "w alpha '{}'\n",
    "q\n",
    "'''.format(directory, old_filenames[i], new_filenames[i]))\n",
    "    #print new_filenames[i]\n",
    "    i+=1"
   ]
  },
  {
   "cell_type": "code",
   "execution_count": null,
   "metadata": {
    "collapsed": true
   },
   "outputs": [],
   "source": []
  }
 ],
 "metadata": {
  "kernelspec": {
   "display_name": "Python 3",
   "language": "python",
   "name": "python3"
  },
  "language_info": {
   "codemirror_mode": {
    "name": "ipython",
    "version": 3
   },
   "file_extension": ".py",
   "mimetype": "text/x-python",
   "name": "python",
   "nbconvert_exporter": "python",
   "pygments_lexer": "ipython3",
   "version": "3.6.4"
  }
 },
 "nbformat": 4,
 "nbformat_minor": 2
}
