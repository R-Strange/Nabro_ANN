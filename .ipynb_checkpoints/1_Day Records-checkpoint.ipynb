{
 "cells": [
  {
   "cell_type": "markdown",
   "metadata": {},
   "source": [
    "# Day Records\n",
    "\n",
    "##### To keep the operational notebooks free of clutter, records of meetings and correspondence have been moved to a seperate notebook.\n",
    "---------------\n",
    "### 6$^{th}$ September 2017 - Meeting With D. Waltham\n",
    "Overall outline to project and work done so far. Initial versions of the sac handler and peak identification from the last two weeks presented. Initial code is being tested around readily available regional seismic data from IRIS, specifically, the 5$^{th}$ March 2017 5.6 M$_{W}$ earthquake, Aleutian Islands.\n",
    "\n",
    "Planned work includes abstracting the fourier component signals down to discrete data by picking out every signficiant peak, and recording it as amplitude and frequency. D.W. suggests fitting a decay curve to help remove non-significant peaks. It would help to understand Tensorflow's standard input as every sample would have a different number of peaks, and dynamic inputs are usually very troublesome.\n",
    "\n",
    "Data still needs to be found - IRIS offers good regional data but little in the way of volcanic seismology, which offers a more constant physical environment - predominantly mode 1 fractures, shallow, frequent, non-complex. Discussions in passing with P. Vannucchi suggest the INGV as a possible source of data on Etna, Stromboli, Campi Flegrei etc..."
   ]
  },
  {
   "cell_type": "markdown",
   "metadata": {},
   "source": [
    "-----------------------------\n",
    "### 16$^{th}$ September 2017 - Cardiff University\n",
    "As I am completing my research part-time, I am also working part time. This week, I have started working for a client based in Cardiff. I visited the university as part of a wider search for data in person. I spoke Dr Tiago Alves (who works closely with Javier, allowing me to get a foot in the door) who passed me to Dr Chris Berry who passed me to Dr Peter Brabham. He recommended the BUMPS group in bristol, and to reach out to a recent PhD student who was working in a local GeoTechnical Firm - \"TerraFirma\" - situated just outside Cardiff.\n",
    "\n",
    "The old student again recommended the BUMPS group"
   ]
  },
  {
   "cell_type": "markdown",
   "metadata": {},
   "source": [
    "----------------------------\n",
    "### 2$^{nd}$ October\n",
    "Following on from unsuccessful attempts to reach out to the Volcanic Seismology group in Cambridge (Bob White) who have captured a good dyke implacement event in Iceland; and to Leeds (No reply, and I can't reach both old PhDs, now doctorates at Leeds, and NOC, Southampton) after a recommendation from Julia Cromey at the Edinburgh Volcanic Monitoring team at the BGS, I have decided take a more proactive approach to finding data to visit the suddenly active Gunung Agung in Bali, Indonesia, as it offers a rare opportunity to observe and even collect data for the an erupting volcano. Red warnings for the volcano according to MAGMA reports give me days at best before eruption, so I'm flying in 36 hours. I have reached out to the Observation Team Lead (Devy Syahbana), who is willing for me to join the team following ESDM permission. "
   ]
  },
  {
   "cell_type": "markdown",
   "metadata": {},
   "source": [
    "---------------------\n",
    "### 1$^{st}$ November\n",
    "As it turns out, the MAGMA reports were slightly off. Although there is still constant (600+ tremors a day) activity, Gn. Agung has still not erupted. Even with references from SEARG, Offical headed letters from Holloway, and support from the Observation Team Lead, the ESDM did not answer any inquiries. With my Visa expiring, I have returned to the UK without data. some activity is being picked up in Malaysian seimic station, however Indonesia does not share its seismic data."
   ]
  },
  {
   "cell_type": "markdown",
   "metadata": {},
   "source": [
    "---------------\n",
    "### 12$^{th}$ November - Meetings with DW, IW, ZL\n",
    "I met with D. Waltham briefly - there are concerns over finding data. The fall back option will be to revert to using regional seismic data and pivoting the focus of research, however this may lead to a much weaker model. I have also met with I. Watkinson, going over some of the raw seismic data from IRIS and modern signal analysis. \n",
    "\n",
    "I have also met with Prof. Zhiyuan Luo, of the RHUL Comp Sci Dept, who specialises in Neural Networks. ZL believes that using ANNs is appropriate in the context, and recommended avoiding the issue of dynamically-sized inputs by fitting the data into bins. This would also improve ANN performance at the cost of fidelity."
   ]
  },
  {
   "cell_type": "markdown",
   "metadata": {},
   "source": [
    "-----------------------------------\n",
    "### 17$^{th}$ November - Montserrat Observatory\n",
    "Following on from previous conversations with the BGS volcano montioring team (Julia Cromey) I have tried to reach out to the Montserrat Observatoty directly, howevert it seems that the contact details are out of date and the two recent contacts have just moved to new posts - another dead end."
   ]
  },
  {
   "cell_type": "markdown",
   "metadata": {},
   "source": [
    "---------------------\n",
    "### 5$^{th}$ December - Talk with Pieter Vermeesch\n",
    "\n",
    "I was in the depoartment to see a Lyell evening lecture - \"Big Data in Geology\" by Prof. Pieter Vermeesch, UCL. A breif meeting with D Waltham focussed mostly on worries over a lack of data this late in the project. I managed to talk at length with PV after his lecture. PV invited me to UCL to talk further in regards to my part-time work as a Data Scientist, and has offered to introduce me to James Hammond, Birkbeck, who has captured seismic recordings of a eruption in the African Rift valley."
   ]
  },
  {
   "cell_type": "markdown",
   "metadata": {},
   "source": [
    "----------------\n",
    "### 7$^{th}$ December- Meetings with James Hammond, Pieter Vermeesch\n",
    "\n",
    "I met JH at Birkbeck at 10am today. I saw a sizable dataset for the eruption of Nabro in  Eritrea in 2011, although he has warned that the data is in collaboration with Bristol, and I would need to get permission from all parties involved. There seem to be thousands of manually selected for - or \"picked\" as they refer to them - events and whole-day recordings which is perfect for an ANN. I had a further meeting with PV on computer vision applications for beta-fission track identification in mineral microscopy."
   ]
  },
  {
   "cell_type": "markdown",
   "metadata": {},
   "source": [
    "---------------------------\n",
    "### 9$^{th}$ January\n",
    "\n",
    "I have recieved confirmation from Bristol and Birkbeck that I can use the Nabro data."
   ]
  },
  {
   "cell_type": "markdown",
   "metadata": {},
   "source": [
    "------------------\n",
    "### 15$^{th}$ January - Bristol\n",
    "Following on from stalled emails from Bristol, I have decided to drop in unannounced to the department while on my way back from Cardiff. I'm running out of time to complete my project and every week of data matters.\n",
    "\n",
    "I have managed to meet with Mike Kendall, who leads the team in Bristol, a PhD student in the team - Sacha Lapins - and a recent Postdoc, Berhe Gezahegn, a native Eritrean who manually picked the seimic events form the eruptions as part of a PhD with the team at Bristol. I am going to co-ordinate with BG and SL to arrange a dropbox/google drive to share data.\n",
    "\n",
    "BG and SL have confirmed that the event data is manually picked and segregated from the whole-day data"
   ]
  },
  {
   "cell_type": "markdown",
   "metadata": {},
   "source": [
    "----------------\n",
    "### 7$^{th}$ March - Meeting with D Waltham, I Watkinson\n",
    "Following on from a successfull cNN model, and ahead of a final presentation, I've met with DW. Good feedback, happier with progress. DW suggested pushing forward the presentation work to monday for a dry run.\n",
    "\n",
    "met with IW - IW recommends including a layman's summary given the unfamiliarity of Neural Networks for most possible markers."
   ]
  },
  {
   "cell_type": "markdown",
   "metadata": {},
   "source": [
    "-------------------\n",
    "### 12$^{th}$ March - Meeting with D Waltham\n",
    "presenting the project as a dry run of the final presentation on the 19$^{th}$ March. DW suggests removing noise processing slides, most fourier and kaiser slides for brevity, and simplifying the title. In addition, some changes to the axes of the initial event sample plot, and tidying the x axis of the binned data plots where there is some bunching."
   ]
  },
  {
   "cell_type": "markdown",
   "metadata": {},
   "source": [
    "-------------------\n",
    "### 28$^{th}$ March - talk with J Morgan\n",
    "while on Fieldwork in Elba led by P. Vannucchi and J Morgan, I passed a copy of a 1$^{st}$ draft to J Morgan. Feedback is good, but JM recommends reworking the layman's summary further."
   ]
  }
 ],
 "metadata": {
  "kernelspec": {
   "display_name": "Python 3",
   "language": "python",
   "name": "python3"
  },
  "language_info": {
   "codemirror_mode": {
    "name": "ipython",
    "version": 3
   },
   "file_extension": ".py",
   "mimetype": "text/x-python",
   "name": "python",
   "nbconvert_exporter": "python",
   "pygments_lexer": "ipython3",
   "version": "3.6.4"
  }
 },
 "nbformat": 4,
 "nbformat_minor": 2
}
